{
 "cells": [
  {
   "cell_type": "markdown",
   "metadata": {},
   "source": [
    "## Los Angeles County Person Details - Hit Shooting Incidents and Non-Hit Shooting Incidents 2010 to Present."
   ]
  },
  {
   "cell_type": "markdown",
   "metadata": {},
   "source": [
    "## Updated October 27, 2019\n",
    "Data Last Updated October 27, 2019 Metadata Last Updated April 16, 2019 Date Created September 21, 2015\n",
    "\n",
    "## Information about this dataset can be found here:\n",
    "\n",
    "https://data.lacounty.gov/Criminal/Person-Details-Hit-Shooting-Incidents-and-Non-Hit-/t8vk-5p9p"
   ]
  },
  {
   "cell_type": "markdown",
   "metadata": {},
   "source": [
    "# Goals for this dataset:\n",
    "1. Look for corellations between shootings and various factors such as age of suspect, mental health status of suspect, geolocations, suspect race, etc,\n",
    "2. Produce graphics that aid in understanding the various data relationships.\n",
    "3. overlay shooting incidents onto an interactive map using Folium."
   ]
  },
  {
   "cell_type": "markdown",
   "metadata": {},
   "source": [
    "## Import Libraries"
   ]
  },
  {
   "cell_type": "code",
   "execution_count": 163,
   "metadata": {},
   "outputs": [],
   "source": [
    "import pandas as pd\n",
    "import numpy as np\n",
    "\n",
    "import matplotlib.pyplot as plt\n",
    "import folium\n",
    "\n",
    "%matplotlib inline"
   ]
  },
  {
   "cell_type": "markdown",
   "metadata": {},
   "source": [
    "## Let's read in the live data so we can stay up-to-date on the data.\n",
    "\n",
    "#### Here we read in the file as java script object notation. The API is included in the link.\n",
    "\n",
    "https://en.wikipedia.org/wiki/JSON"
   ]
  },
  {
   "cell_type": "code",
   "execution_count": 164,
   "metadata": {},
   "outputs": [],
   "source": [
    "df = pd.read_json('https://data.lacounty.gov/resource/t8vk-5p9p.json')"
   ]
  },
  {
   "cell_type": "code",
   "execution_count": 165,
   "metadata": {},
   "outputs": [
    {
     "data": {
      "text/plain": [
       "Index(['incident_number', 'incident_type', 'incident_date',\n",
       "       'incident_location', 'city', 'state', 'zip', 'reporting_district',\n",
       "       'geo_location', 'suspect_age', 'suspect_race', 'mental_health_concerns',\n",
       "       'criminal_history', 'wounded', 'deceased', 'on_probation', 'on_parole',\n",
       "       'under_the_influence', 'of_involved_deputies',\n",
       "       'weapon_involved_category', 'weapon_involved_category_desc',\n",
       "       'approx_latitude', 'approx_longitude', ':@computed_region_x8wy_s94z',\n",
       "       ':@computed_region_cbw7_skn5', 'substance_name'],\n",
       "      dtype='object')"
      ]
     },
     "execution_count": 165,
     "metadata": {},
     "output_type": "execute_result"
    }
   ],
   "source": [
    "df.columns"
   ]
  },
  {
   "cell_type": "code",
   "execution_count": 166,
   "metadata": {},
   "outputs": [
    {
     "data": {
      "text/html": [
       "<div>\n",
       "<style scoped>\n",
       "    .dataframe tbody tr th:only-of-type {\n",
       "        vertical-align: middle;\n",
       "    }\n",
       "\n",
       "    .dataframe tbody tr th {\n",
       "        vertical-align: top;\n",
       "    }\n",
       "\n",
       "    .dataframe thead th {\n",
       "        text-align: right;\n",
       "    }\n",
       "</style>\n",
       "<table border=\"1\" class=\"dataframe\">\n",
       "  <thead>\n",
       "    <tr style=\"text-align: right;\">\n",
       "      <th></th>\n",
       "      <th>incident_number</th>\n",
       "      <th>incident_type</th>\n",
       "      <th>incident_date</th>\n",
       "      <th>incident_location</th>\n",
       "      <th>city</th>\n",
       "      <th>state</th>\n",
       "      <th>zip</th>\n",
       "      <th>reporting_district</th>\n",
       "      <th>geo_location</th>\n",
       "      <th>suspect_age</th>\n",
       "      <th>suspect_race</th>\n",
       "      <th>mental_health_concerns</th>\n",
       "      <th>criminal_history</th>\n",
       "      <th>wounded</th>\n",
       "      <th>deceased</th>\n",
       "      <th>on_probation</th>\n",
       "      <th>on_parole</th>\n",
       "      <th>under_the_influence</th>\n",
       "      <th>of_involved_deputies</th>\n",
       "      <th>weapon_involved_category</th>\n",
       "      <th>weapon_involved_category_desc</th>\n",
       "      <th>approx_latitude</th>\n",
       "      <th>approx_longitude</th>\n",
       "      <th>:@computed_region_x8wy_s94z</th>\n",
       "      <th>:@computed_region_cbw7_skn5</th>\n",
       "      <th>substance_name</th>\n",
       "    </tr>\n",
       "  </thead>\n",
       "  <tbody>\n",
       "    <tr>\n",
       "      <td>0</td>\n",
       "      <td>1000289</td>\n",
       "      <td>HIT SHOOTING INCIDENT</td>\n",
       "      <td>2010-01-14T15:41:00.000</td>\n",
       "      <td>500 WEST GARDENA BOULEVARD</td>\n",
       "      <td>LOS ANGELES</td>\n",
       "      <td>CA</td>\n",
       "      <td>90248.0</td>\n",
       "      <td>1699.0</td>\n",
       "      <td>{'latitude': '33.881832', 'longitude': '-118.2...</td>\n",
       "      <td>43.0</td>\n",
       "      <td>HISPANIC</td>\n",
       "      <td>N</td>\n",
       "      <td>Y</td>\n",
       "      <td>Y</td>\n",
       "      <td>N</td>\n",
       "      <td>Y</td>\n",
       "      <td>Y</td>\n",
       "      <td>N</td>\n",
       "      <td>1</td>\n",
       "      <td>A-4</td>\n",
       "      <td>FIREARM:  Perception shooting, Suspect actions...</td>\n",
       "      <td>33.881832</td>\n",
       "      <td>-118.282796</td>\n",
       "      <td>24685</td>\n",
       "      <td>2.0</td>\n",
       "      <td>NaN</td>\n",
       "    </tr>\n",
       "    <tr>\n",
       "      <td>1</td>\n",
       "      <td>1000290</td>\n",
       "      <td>NON-HIT SHOOTING INCIDENT</td>\n",
       "      <td>2010-02-10T21:45:00.000</td>\n",
       "      <td>1300 WEST 139TH STREET</td>\n",
       "      <td>COMPTON</td>\n",
       "      <td>CA</td>\n",
       "      <td>90222.0</td>\n",
       "      <td>2812.0</td>\n",
       "      <td>{'latitude': '33.90574174912721', 'longitude':...</td>\n",
       "      <td>19.0</td>\n",
       "      <td>HISPANIC</td>\n",
       "      <td>N</td>\n",
       "      <td>N</td>\n",
       "      <td>Y</td>\n",
       "      <td>N</td>\n",
       "      <td>Y</td>\n",
       "      <td>N</td>\n",
       "      <td>Y</td>\n",
       "      <td>3</td>\n",
       "      <td>A-2</td>\n",
       "      <td>FIREARM:  Suspect armed,  Suspect fired at deputy</td>\n",
       "      <td>33.905742</td>\n",
       "      <td>-118.251892</td>\n",
       "      <td>24677</td>\n",
       "      <td>2.0</td>\n",
       "      <td>STIMULANT</td>\n",
       "    </tr>\n",
       "    <tr>\n",
       "      <td>2</td>\n",
       "      <td>1000291</td>\n",
       "      <td>HIT SHOOTING INCIDENT</td>\n",
       "      <td>2010-02-26T04:29:00.000</td>\n",
       "      <td>NORWALK BOULEVARD AND CAMBRIAN STREET</td>\n",
       "      <td>ARTESIA</td>\n",
       "      <td>CA</td>\n",
       "      <td>90701.0</td>\n",
       "      <td>1349.0</td>\n",
       "      <td>{'latitude': '33.85705101617263', 'longitude':...</td>\n",
       "      <td>35.0</td>\n",
       "      <td>BLACK</td>\n",
       "      <td>N</td>\n",
       "      <td>N</td>\n",
       "      <td>Y</td>\n",
       "      <td>N</td>\n",
       "      <td>Y</td>\n",
       "      <td>N</td>\n",
       "      <td>N</td>\n",
       "      <td>1</td>\n",
       "      <td>B-2</td>\n",
       "      <td>WEAPON - OTHER:  Suspect armed, Suspect used w...</td>\n",
       "      <td>33.857051</td>\n",
       "      <td>-118.072289</td>\n",
       "      <td>26323</td>\n",
       "      <td>4.0</td>\n",
       "      <td>NaN</td>\n",
       "    </tr>\n",
       "    <tr>\n",
       "      <td>3</td>\n",
       "      <td>1000313</td>\n",
       "      <td>HIT SHOOTING INCIDENT</td>\n",
       "      <td>2010-03-06T03:30:00.000</td>\n",
       "      <td>3800 FIRESTONE BLVD.</td>\n",
       "      <td>SOUTH GATE</td>\n",
       "      <td>CA</td>\n",
       "      <td>90280.0</td>\n",
       "      <td>2199.0</td>\n",
       "      <td>{'latitude': '33.953839', 'longitude': '-118.2...</td>\n",
       "      <td>29.0</td>\n",
       "      <td>HISPANIC</td>\n",
       "      <td>N</td>\n",
       "      <td>Y</td>\n",
       "      <td>Y</td>\n",
       "      <td>N</td>\n",
       "      <td>Y</td>\n",
       "      <td>N</td>\n",
       "      <td>N</td>\n",
       "      <td>2</td>\n",
       "      <td>A-1</td>\n",
       "      <td>FIREARM:  Suspect armed,  Firearm recovered</td>\n",
       "      <td>33.953839</td>\n",
       "      <td>-118.202349</td>\n",
       "      <td>25071</td>\n",
       "      <td>1.0</td>\n",
       "      <td>NaN</td>\n",
       "    </tr>\n",
       "    <tr>\n",
       "      <td>4</td>\n",
       "      <td>1000313</td>\n",
       "      <td>HIT SHOOTING INCIDENT</td>\n",
       "      <td>2010-03-06T03:30:00.000</td>\n",
       "      <td>3800 FIRESTONE BLVD.</td>\n",
       "      <td>SOUTH GATE</td>\n",
       "      <td>CA</td>\n",
       "      <td>90280.0</td>\n",
       "      <td>2199.0</td>\n",
       "      <td>{'latitude': '33.953839', 'longitude': '-118.2...</td>\n",
       "      <td>18.0</td>\n",
       "      <td>HISPANIC</td>\n",
       "      <td>N</td>\n",
       "      <td>Y</td>\n",
       "      <td>Y</td>\n",
       "      <td>N</td>\n",
       "      <td>N</td>\n",
       "      <td>Y</td>\n",
       "      <td>N</td>\n",
       "      <td>2</td>\n",
       "      <td>A-1</td>\n",
       "      <td>FIREARM:  Suspect armed,  Firearm recovered</td>\n",
       "      <td>33.953839</td>\n",
       "      <td>-118.202349</td>\n",
       "      <td>25071</td>\n",
       "      <td>1.0</td>\n",
       "      <td>NaN</td>\n",
       "    </tr>\n",
       "  </tbody>\n",
       "</table>\n",
       "</div>"
      ],
      "text/plain": [
       "   incident_number              incident_type            incident_date  \\\n",
       "0          1000289      HIT SHOOTING INCIDENT  2010-01-14T15:41:00.000   \n",
       "1          1000290  NON-HIT SHOOTING INCIDENT  2010-02-10T21:45:00.000   \n",
       "2          1000291      HIT SHOOTING INCIDENT  2010-02-26T04:29:00.000   \n",
       "3          1000313      HIT SHOOTING INCIDENT  2010-03-06T03:30:00.000   \n",
       "4          1000313      HIT SHOOTING INCIDENT  2010-03-06T03:30:00.000   \n",
       "\n",
       "                       incident_location         city state      zip  \\\n",
       "0             500 WEST GARDENA BOULEVARD  LOS ANGELES    CA  90248.0   \n",
       "1                 1300 WEST 139TH STREET      COMPTON    CA  90222.0   \n",
       "2  NORWALK BOULEVARD AND CAMBRIAN STREET      ARTESIA    CA  90701.0   \n",
       "3                   3800 FIRESTONE BLVD.   SOUTH GATE    CA  90280.0   \n",
       "4                   3800 FIRESTONE BLVD.   SOUTH GATE    CA  90280.0   \n",
       "\n",
       "   reporting_district                                       geo_location  \\\n",
       "0              1699.0  {'latitude': '33.881832', 'longitude': '-118.2...   \n",
       "1              2812.0  {'latitude': '33.90574174912721', 'longitude':...   \n",
       "2              1349.0  {'latitude': '33.85705101617263', 'longitude':...   \n",
       "3              2199.0  {'latitude': '33.953839', 'longitude': '-118.2...   \n",
       "4              2199.0  {'latitude': '33.953839', 'longitude': '-118.2...   \n",
       "\n",
       "   suspect_age suspect_race mental_health_concerns criminal_history wounded  \\\n",
       "0         43.0     HISPANIC                      N                Y       Y   \n",
       "1         19.0     HISPANIC                      N                N       Y   \n",
       "2         35.0        BLACK                      N                N       Y   \n",
       "3         29.0     HISPANIC                      N                Y       Y   \n",
       "4         18.0     HISPANIC                      N                Y       Y   \n",
       "\n",
       "  deceased on_probation on_parole under_the_influence  of_involved_deputies  \\\n",
       "0        N            Y         Y                   N                     1   \n",
       "1        N            Y         N                   Y                     3   \n",
       "2        N            Y         N                   N                     1   \n",
       "3        N            Y         N                   N                     2   \n",
       "4        N            N         Y                   N                     2   \n",
       "\n",
       "  weapon_involved_category                      weapon_involved_category_desc  \\\n",
       "0                      A-4  FIREARM:  Perception shooting, Suspect actions...   \n",
       "1                      A-2  FIREARM:  Suspect armed,  Suspect fired at deputy   \n",
       "2                      B-2  WEAPON - OTHER:  Suspect armed, Suspect used w...   \n",
       "3                      A-1        FIREARM:  Suspect armed,  Firearm recovered   \n",
       "4                      A-1        FIREARM:  Suspect armed,  Firearm recovered   \n",
       "\n",
       "   approx_latitude  approx_longitude  :@computed_region_x8wy_s94z  \\\n",
       "0        33.881832       -118.282796                        24685   \n",
       "1        33.905742       -118.251892                        24677   \n",
       "2        33.857051       -118.072289                        26323   \n",
       "3        33.953839       -118.202349                        25071   \n",
       "4        33.953839       -118.202349                        25071   \n",
       "\n",
       "   :@computed_region_cbw7_skn5 substance_name  \n",
       "0                          2.0            NaN  \n",
       "1                          2.0      STIMULANT  \n",
       "2                          4.0            NaN  \n",
       "3                          1.0            NaN  \n",
       "4                          1.0            NaN  "
      ]
     },
     "execution_count": 166,
     "metadata": {},
     "output_type": "execute_result"
    }
   ],
   "source": [
    "df.head()"
   ]
  },
  {
   "cell_type": "markdown",
   "metadata": {},
   "source": [
    "# Let's get some basic information about the dataset before we do anything else."
   ]
  },
  {
   "cell_type": "code",
   "execution_count": 167,
   "metadata": {},
   "outputs": [
    {
     "data": {
      "text/plain": [
       "(356, 26)"
      ]
     },
     "execution_count": 167,
     "metadata": {},
     "output_type": "execute_result"
    }
   ],
   "source": [
    "df.shape"
   ]
  },
  {
   "cell_type": "code",
   "execution_count": 168,
   "metadata": {},
   "outputs": [],
   "source": [
    "old_shape = df.shape[0] #save the column count for calculating the number of dropped columns later"
   ]
  },
  {
   "cell_type": "markdown",
   "metadata": {},
   "source": [
    "### From above we can see there are 356 rows and 26 columns in the dataset"
   ]
  },
  {
   "cell_type": "code",
   "execution_count": 169,
   "metadata": {},
   "outputs": [
    {
     "name": "stdout",
     "output_type": "stream",
     "text": [
      "<class 'pandas.core.frame.DataFrame'>\n",
      "RangeIndex: 356 entries, 0 to 355\n",
      "Data columns (total 26 columns):\n",
      "incident_number                  356 non-null int64\n",
      "incident_type                    356 non-null object\n",
      "incident_date                    356 non-null object\n",
      "incident_location                356 non-null object\n",
      "city                             355 non-null object\n",
      "state                            356 non-null object\n",
      "zip                              355 non-null float64\n",
      "reporting_district               354 non-null float64\n",
      "geo_location                     356 non-null object\n",
      "suspect_age                      347 non-null float64\n",
      "suspect_race                     351 non-null object\n",
      "mental_health_concerns           352 non-null object\n",
      "criminal_history                 348 non-null object\n",
      "wounded                          324 non-null object\n",
      "deceased                         325 non-null object\n",
      "on_probation                     302 non-null object\n",
      "on_parole                        304 non-null object\n",
      "under_the_influence              305 non-null object\n",
      "of_involved_deputies             356 non-null int64\n",
      "weapon_involved_category         352 non-null object\n",
      "weapon_involved_category_desc    352 non-null object\n",
      "approx_latitude                  354 non-null float64\n",
      "approx_longitude                 354 non-null float64\n",
      ":@computed_region_x8wy_s94z      356 non-null int64\n",
      ":@computed_region_cbw7_skn5      348 non-null float64\n",
      "substance_name                   105 non-null object\n",
      "dtypes: float64(6), int64(3), object(17)\n",
      "memory usage: 72.4+ KB\n"
     ]
    }
   ],
   "source": [
    "df.info()"
   ]
  },
  {
   "cell_type": "markdown",
   "metadata": {},
   "source": [
    "### Get the number of Null values and their locations so we can figure out what we may need to do with them or not."
   ]
  },
  {
   "cell_type": "code",
   "execution_count": 170,
   "metadata": {},
   "outputs": [
    {
     "data": {
      "text/plain": [
       "incident_number                    0\n",
       "incident_type                      0\n",
       "incident_date                      0\n",
       "incident_location                  0\n",
       "city                               1\n",
       "state                              0\n",
       "zip                                1\n",
       "reporting_district                 2\n",
       "geo_location                       0\n",
       "suspect_age                        9\n",
       "suspect_race                       5\n",
       "mental_health_concerns             4\n",
       "criminal_history                   8\n",
       "wounded                           32\n",
       "deceased                          31\n",
       "on_probation                      54\n",
       "on_parole                         52\n",
       "under_the_influence               51\n",
       "of_involved_deputies               0\n",
       "weapon_involved_category           4\n",
       "weapon_involved_category_desc      4\n",
       "approx_latitude                    2\n",
       "approx_longitude                   2\n",
       ":@computed_region_x8wy_s94z        0\n",
       ":@computed_region_cbw7_skn5        8\n",
       "substance_name                   251\n",
       "dtype: int64"
      ]
     },
     "execution_count": 170,
     "metadata": {},
     "output_type": "execute_result"
    }
   ],
   "source": [
    "df.isnull().sum()"
   ]
  },
  {
   "cell_type": "markdown",
   "metadata": {},
   "source": [
    "## Drop rows with null values by-column name. I will re-visit this decision as it will effect the overall statiscal outcome."
   ]
  },
  {
   "cell_type": "code",
   "execution_count": 171,
   "metadata": {},
   "outputs": [
    {
     "name": "stdout",
     "output_type": "stream",
     "text": [
      "The number of rows dropped is  -79\n",
      "The current number of rows is now  277\n"
     ]
    }
   ],
   "source": [
    "df = df.dropna(how='any', subset=['on_parole', 'on_probation', 'city', 'reporting_district', 'wounded', 'deceased', 'under_the_influence'])\n",
    "df.isnull().sum()\n",
    "new_shape = df.shape[0]\n",
    "\n",
    "print('The number of rows dropped is ', new_shape - old_shape)\n",
    "print('The current number of rows is now ', df.shape[0])"
   ]
  },
  {
   "cell_type": "markdown",
   "metadata": {},
   "source": [
    "# I need to write a function that will do this for each column and thus reduce the amount of code"
   ]
  },
  {
   "cell_type": "markdown",
   "metadata": {},
   "source": [
    "# Let's fix the 'mental_health_concerns' entries\n",
    "### Let's replace the 'Y' and 'N' values in the 'mental_health_concerns' column with 1 and 0 to make it a binary column so we can do some analysis"
   ]
  },
  {
   "cell_type": "code",
   "execution_count": 172,
   "metadata": {},
   "outputs": [],
   "source": [
    "\n",
    "\n",
    "# creating a dict file  \n",
    "under_influence = {'Y': 1,'N': 0} \n",
    "\n",
    "# traversing through dataframe \n",
    "# values where key matches \n",
    "df.under_the_influence = [under_influence[item] for item in df.under_the_influence] "
   ]
  },
  {
   "cell_type": "code",
   "execution_count": 173,
   "metadata": {},
   "outputs": [],
   "source": [
    "# creating a dict file  \n",
    "mental_health = {'Y': 1,'N': 0} \n",
    "\n",
    "# traversing through dataframe \n",
    "# values where key matches \n",
    "df.mental_health_concerns = [mental_health[item] for item in df.mental_health_concerns] "
   ]
  },
  {
   "cell_type": "markdown",
   "metadata": {},
   "source": [
    "# Let's fix the 'criminal_history' entries now"
   ]
  },
  {
   "cell_type": "code",
   "execution_count": 174,
   "metadata": {},
   "outputs": [],
   "source": [
    "#let's fix the wounded column entries\n",
    "# creating a dict file  \n",
    "wounded_col = {'Y': 1,'N': 0} \n",
    "\n",
    "# traversing through dataframe  \n",
    "# values where key matches \n",
    "df.wounded = [wounded_col[item] for item in df.wounded]\n",
    "####################################################################################"
   ]
  },
  {
   "cell_type": "code",
   "execution_count": 175,
   "metadata": {},
   "outputs": [],
   "source": [
    "# creating a dict file  \n",
    "crim_hist = {'Y': 1,'N': 0} \n",
    "\n",
    "# traversing through dataframe  \n",
    "# values where key matches \n",
    "df.criminal_history = [crim_hist[item] for item in df.criminal_history]\n",
    "###################################################################################"
   ]
  },
  {
   "cell_type": "code",
   "execution_count": 176,
   "metadata": {},
   "outputs": [],
   "source": [
    "#let's fix the deceased column entries\n",
    "# creating a dict file  \n",
    "deceased_col = {'Y': 1,'N': 0} \n",
    "\n",
    "# traversing through dataframe  \n",
    "# values where key matches \n",
    "df.deceased = [deceased_col[item] for item in df.deceased]\n",
    "####################################################################################"
   ]
  },
  {
   "cell_type": "code",
   "execution_count": 177,
   "metadata": {},
   "outputs": [
    {
     "data": {
      "text/html": [
       "<div>\n",
       "<style scoped>\n",
       "    .dataframe tbody tr th:only-of-type {\n",
       "        vertical-align: middle;\n",
       "    }\n",
       "\n",
       "    .dataframe tbody tr th {\n",
       "        vertical-align: top;\n",
       "    }\n",
       "\n",
       "    .dataframe thead th {\n",
       "        text-align: right;\n",
       "    }\n",
       "</style>\n",
       "<table border=\"1\" class=\"dataframe\">\n",
       "  <thead>\n",
       "    <tr style=\"text-align: right;\">\n",
       "      <th></th>\n",
       "      <th>incident_number</th>\n",
       "      <th>incident_type</th>\n",
       "      <th>incident_date</th>\n",
       "      <th>incident_location</th>\n",
       "      <th>city</th>\n",
       "      <th>state</th>\n",
       "      <th>zip</th>\n",
       "      <th>reporting_district</th>\n",
       "      <th>geo_location</th>\n",
       "      <th>suspect_age</th>\n",
       "      <th>suspect_race</th>\n",
       "      <th>mental_health_concerns</th>\n",
       "      <th>criminal_history</th>\n",
       "      <th>wounded</th>\n",
       "      <th>deceased</th>\n",
       "      <th>on_probation</th>\n",
       "      <th>on_parole</th>\n",
       "      <th>under_the_influence</th>\n",
       "      <th>of_involved_deputies</th>\n",
       "      <th>weapon_involved_category</th>\n",
       "      <th>weapon_involved_category_desc</th>\n",
       "      <th>approx_latitude</th>\n",
       "      <th>approx_longitude</th>\n",
       "      <th>:@computed_region_x8wy_s94z</th>\n",
       "      <th>:@computed_region_cbw7_skn5</th>\n",
       "      <th>substance_name</th>\n",
       "    </tr>\n",
       "  </thead>\n",
       "  <tbody>\n",
       "    <tr>\n",
       "      <td>0</td>\n",
       "      <td>1000289</td>\n",
       "      <td>HIT SHOOTING INCIDENT</td>\n",
       "      <td>2010-01-14T15:41:00.000</td>\n",
       "      <td>500 WEST GARDENA BOULEVARD</td>\n",
       "      <td>LOS ANGELES</td>\n",
       "      <td>CA</td>\n",
       "      <td>90248.0</td>\n",
       "      <td>1699.0</td>\n",
       "      <td>{'latitude': '33.881832', 'longitude': '-118.2...</td>\n",
       "      <td>43.0</td>\n",
       "      <td>HISPANIC</td>\n",
       "      <td>0</td>\n",
       "      <td>1</td>\n",
       "      <td>1</td>\n",
       "      <td>0</td>\n",
       "      <td>Y</td>\n",
       "      <td>Y</td>\n",
       "      <td>0</td>\n",
       "      <td>1</td>\n",
       "      <td>A-4</td>\n",
       "      <td>FIREARM:  Perception shooting, Suspect actions...</td>\n",
       "      <td>33.881832</td>\n",
       "      <td>-118.282796</td>\n",
       "      <td>24685</td>\n",
       "      <td>2.0</td>\n",
       "      <td>NaN</td>\n",
       "    </tr>\n",
       "    <tr>\n",
       "      <td>1</td>\n",
       "      <td>1000290</td>\n",
       "      <td>NON-HIT SHOOTING INCIDENT</td>\n",
       "      <td>2010-02-10T21:45:00.000</td>\n",
       "      <td>1300 WEST 139TH STREET</td>\n",
       "      <td>COMPTON</td>\n",
       "      <td>CA</td>\n",
       "      <td>90222.0</td>\n",
       "      <td>2812.0</td>\n",
       "      <td>{'latitude': '33.90574174912721', 'longitude':...</td>\n",
       "      <td>19.0</td>\n",
       "      <td>HISPANIC</td>\n",
       "      <td>0</td>\n",
       "      <td>0</td>\n",
       "      <td>1</td>\n",
       "      <td>0</td>\n",
       "      <td>Y</td>\n",
       "      <td>N</td>\n",
       "      <td>1</td>\n",
       "      <td>3</td>\n",
       "      <td>A-2</td>\n",
       "      <td>FIREARM:  Suspect armed,  Suspect fired at deputy</td>\n",
       "      <td>33.905742</td>\n",
       "      <td>-118.251892</td>\n",
       "      <td>24677</td>\n",
       "      <td>2.0</td>\n",
       "      <td>STIMULANT</td>\n",
       "    </tr>\n",
       "    <tr>\n",
       "      <td>2</td>\n",
       "      <td>1000291</td>\n",
       "      <td>HIT SHOOTING INCIDENT</td>\n",
       "      <td>2010-02-26T04:29:00.000</td>\n",
       "      <td>NORWALK BOULEVARD AND CAMBRIAN STREET</td>\n",
       "      <td>ARTESIA</td>\n",
       "      <td>CA</td>\n",
       "      <td>90701.0</td>\n",
       "      <td>1349.0</td>\n",
       "      <td>{'latitude': '33.85705101617263', 'longitude':...</td>\n",
       "      <td>35.0</td>\n",
       "      <td>BLACK</td>\n",
       "      <td>0</td>\n",
       "      <td>0</td>\n",
       "      <td>1</td>\n",
       "      <td>0</td>\n",
       "      <td>Y</td>\n",
       "      <td>N</td>\n",
       "      <td>0</td>\n",
       "      <td>1</td>\n",
       "      <td>B-2</td>\n",
       "      <td>WEAPON - OTHER:  Suspect armed, Suspect used w...</td>\n",
       "      <td>33.857051</td>\n",
       "      <td>-118.072289</td>\n",
       "      <td>26323</td>\n",
       "      <td>4.0</td>\n",
       "      <td>NaN</td>\n",
       "    </tr>\n",
       "    <tr>\n",
       "      <td>3</td>\n",
       "      <td>1000313</td>\n",
       "      <td>HIT SHOOTING INCIDENT</td>\n",
       "      <td>2010-03-06T03:30:00.000</td>\n",
       "      <td>3800 FIRESTONE BLVD.</td>\n",
       "      <td>SOUTH GATE</td>\n",
       "      <td>CA</td>\n",
       "      <td>90280.0</td>\n",
       "      <td>2199.0</td>\n",
       "      <td>{'latitude': '33.953839', 'longitude': '-118.2...</td>\n",
       "      <td>29.0</td>\n",
       "      <td>HISPANIC</td>\n",
       "      <td>0</td>\n",
       "      <td>1</td>\n",
       "      <td>1</td>\n",
       "      <td>0</td>\n",
       "      <td>Y</td>\n",
       "      <td>N</td>\n",
       "      <td>0</td>\n",
       "      <td>2</td>\n",
       "      <td>A-1</td>\n",
       "      <td>FIREARM:  Suspect armed,  Firearm recovered</td>\n",
       "      <td>33.953839</td>\n",
       "      <td>-118.202349</td>\n",
       "      <td>25071</td>\n",
       "      <td>1.0</td>\n",
       "      <td>NaN</td>\n",
       "    </tr>\n",
       "    <tr>\n",
       "      <td>4</td>\n",
       "      <td>1000313</td>\n",
       "      <td>HIT SHOOTING INCIDENT</td>\n",
       "      <td>2010-03-06T03:30:00.000</td>\n",
       "      <td>3800 FIRESTONE BLVD.</td>\n",
       "      <td>SOUTH GATE</td>\n",
       "      <td>CA</td>\n",
       "      <td>90280.0</td>\n",
       "      <td>2199.0</td>\n",
       "      <td>{'latitude': '33.953839', 'longitude': '-118.2...</td>\n",
       "      <td>18.0</td>\n",
       "      <td>HISPANIC</td>\n",
       "      <td>0</td>\n",
       "      <td>1</td>\n",
       "      <td>1</td>\n",
       "      <td>0</td>\n",
       "      <td>N</td>\n",
       "      <td>Y</td>\n",
       "      <td>0</td>\n",
       "      <td>2</td>\n",
       "      <td>A-1</td>\n",
       "      <td>FIREARM:  Suspect armed,  Firearm recovered</td>\n",
       "      <td>33.953839</td>\n",
       "      <td>-118.202349</td>\n",
       "      <td>25071</td>\n",
       "      <td>1.0</td>\n",
       "      <td>NaN</td>\n",
       "    </tr>\n",
       "    <tr>\n",
       "      <td>5</td>\n",
       "      <td>1000292</td>\n",
       "      <td>HIT SHOOTING INCIDENT</td>\n",
       "      <td>2010-03-09T11:32:00.000</td>\n",
       "      <td>6300 BEAR AVENUE</td>\n",
       "      <td>BELL GARDENS</td>\n",
       "      <td>CA</td>\n",
       "      <td>90201.0</td>\n",
       "      <td>3199.0</td>\n",
       "      <td>{'latitude': '33.980614', 'longitude': '-118.1...</td>\n",
       "      <td>55.0</td>\n",
       "      <td>HISPANIC</td>\n",
       "      <td>1</td>\n",
       "      <td>0</td>\n",
       "      <td>1</td>\n",
       "      <td>0</td>\n",
       "      <td>Y</td>\n",
       "      <td>N</td>\n",
       "      <td>1</td>\n",
       "      <td>1</td>\n",
       "      <td>A-1</td>\n",
       "      <td>FIREARM:  Suspect armed,  Firearm recovered</td>\n",
       "      <td>33.980614</td>\n",
       "      <td>-118.197058</td>\n",
       "      <td>24345</td>\n",
       "      <td>1.0</td>\n",
       "      <td>STIMULANT</td>\n",
       "    </tr>\n",
       "    <tr>\n",
       "      <td>6</td>\n",
       "      <td>1000293</td>\n",
       "      <td>HIT SHOOTING INCIDENT</td>\n",
       "      <td>2010-03-24T00:14:00.000</td>\n",
       "      <td>3900 DOBINSON STREET</td>\n",
       "      <td>LOS ANGELES</td>\n",
       "      <td>CA</td>\n",
       "      <td>90063.0</td>\n",
       "      <td>272.0</td>\n",
       "      <td>{'latitude': '34.048984', 'longitude': '-118.1...</td>\n",
       "      <td>31.0</td>\n",
       "      <td>HISPANIC</td>\n",
       "      <td>1</td>\n",
       "      <td>0</td>\n",
       "      <td>1</td>\n",
       "      <td>0</td>\n",
       "      <td>Y</td>\n",
       "      <td>N</td>\n",
       "      <td>1</td>\n",
       "      <td>1</td>\n",
       "      <td>A-4</td>\n",
       "      <td>FIREARM:  Perception shooting, Suspect actions...</td>\n",
       "      <td>34.048984</td>\n",
       "      <td>-118.182560</td>\n",
       "      <td>24028</td>\n",
       "      <td>1.0</td>\n",
       "      <td>ALCOHOL</td>\n",
       "    </tr>\n",
       "  </tbody>\n",
       "</table>\n",
       "</div>"
      ],
      "text/plain": [
       "   incident_number              incident_type            incident_date  \\\n",
       "0          1000289      HIT SHOOTING INCIDENT  2010-01-14T15:41:00.000   \n",
       "1          1000290  NON-HIT SHOOTING INCIDENT  2010-02-10T21:45:00.000   \n",
       "2          1000291      HIT SHOOTING INCIDENT  2010-02-26T04:29:00.000   \n",
       "3          1000313      HIT SHOOTING INCIDENT  2010-03-06T03:30:00.000   \n",
       "4          1000313      HIT SHOOTING INCIDENT  2010-03-06T03:30:00.000   \n",
       "5          1000292      HIT SHOOTING INCIDENT  2010-03-09T11:32:00.000   \n",
       "6          1000293      HIT SHOOTING INCIDENT  2010-03-24T00:14:00.000   \n",
       "\n",
       "                       incident_location          city state      zip  \\\n",
       "0             500 WEST GARDENA BOULEVARD   LOS ANGELES    CA  90248.0   \n",
       "1                 1300 WEST 139TH STREET       COMPTON    CA  90222.0   \n",
       "2  NORWALK BOULEVARD AND CAMBRIAN STREET       ARTESIA    CA  90701.0   \n",
       "3                   3800 FIRESTONE BLVD.    SOUTH GATE    CA  90280.0   \n",
       "4                   3800 FIRESTONE BLVD.    SOUTH GATE    CA  90280.0   \n",
       "5                       6300 BEAR AVENUE  BELL GARDENS    CA  90201.0   \n",
       "6                   3900 DOBINSON STREET   LOS ANGELES    CA  90063.0   \n",
       "\n",
       "   reporting_district                                       geo_location  \\\n",
       "0              1699.0  {'latitude': '33.881832', 'longitude': '-118.2...   \n",
       "1              2812.0  {'latitude': '33.90574174912721', 'longitude':...   \n",
       "2              1349.0  {'latitude': '33.85705101617263', 'longitude':...   \n",
       "3              2199.0  {'latitude': '33.953839', 'longitude': '-118.2...   \n",
       "4              2199.0  {'latitude': '33.953839', 'longitude': '-118.2...   \n",
       "5              3199.0  {'latitude': '33.980614', 'longitude': '-118.1...   \n",
       "6               272.0  {'latitude': '34.048984', 'longitude': '-118.1...   \n",
       "\n",
       "   suspect_age suspect_race  mental_health_concerns  criminal_history  \\\n",
       "0         43.0     HISPANIC                       0                 1   \n",
       "1         19.0     HISPANIC                       0                 0   \n",
       "2         35.0        BLACK                       0                 0   \n",
       "3         29.0     HISPANIC                       0                 1   \n",
       "4         18.0     HISPANIC                       0                 1   \n",
       "5         55.0     HISPANIC                       1                 0   \n",
       "6         31.0     HISPANIC                       1                 0   \n",
       "\n",
       "   wounded  deceased on_probation on_parole  under_the_influence  \\\n",
       "0        1         0            Y         Y                    0   \n",
       "1        1         0            Y         N                    1   \n",
       "2        1         0            Y         N                    0   \n",
       "3        1         0            Y         N                    0   \n",
       "4        1         0            N         Y                    0   \n",
       "5        1         0            Y         N                    1   \n",
       "6        1         0            Y         N                    1   \n",
       "\n",
       "   of_involved_deputies weapon_involved_category  \\\n",
       "0                     1                      A-4   \n",
       "1                     3                      A-2   \n",
       "2                     1                      B-2   \n",
       "3                     2                      A-1   \n",
       "4                     2                      A-1   \n",
       "5                     1                      A-1   \n",
       "6                     1                      A-4   \n",
       "\n",
       "                       weapon_involved_category_desc  approx_latitude  \\\n",
       "0  FIREARM:  Perception shooting, Suspect actions...        33.881832   \n",
       "1  FIREARM:  Suspect armed,  Suspect fired at deputy        33.905742   \n",
       "2  WEAPON - OTHER:  Suspect armed, Suspect used w...        33.857051   \n",
       "3        FIREARM:  Suspect armed,  Firearm recovered        33.953839   \n",
       "4        FIREARM:  Suspect armed,  Firearm recovered        33.953839   \n",
       "5        FIREARM:  Suspect armed,  Firearm recovered        33.980614   \n",
       "6  FIREARM:  Perception shooting, Suspect actions...        34.048984   \n",
       "\n",
       "   approx_longitude  :@computed_region_x8wy_s94z  :@computed_region_cbw7_skn5  \\\n",
       "0       -118.282796                        24685                          2.0   \n",
       "1       -118.251892                        24677                          2.0   \n",
       "2       -118.072289                        26323                          4.0   \n",
       "3       -118.202349                        25071                          1.0   \n",
       "4       -118.202349                        25071                          1.0   \n",
       "5       -118.197058                        24345                          1.0   \n",
       "6       -118.182560                        24028                          1.0   \n",
       "\n",
       "  substance_name  \n",
       "0            NaN  \n",
       "1      STIMULANT  \n",
       "2            NaN  \n",
       "3            NaN  \n",
       "4            NaN  \n",
       "5      STIMULANT  \n",
       "6        ALCOHOL  "
      ]
     },
     "execution_count": 177,
     "metadata": {},
     "output_type": "execute_result"
    }
   ],
   "source": [
    "pd.set_option('display.max_columns', None)\n",
    "df.head(7)"
   ]
  },
  {
   "cell_type": "code",
   "execution_count": 178,
   "metadata": {},
   "outputs": [
    {
     "name": "stdout",
     "output_type": "stream",
     "text": [
      "<class 'pandas.core.frame.DataFrame'>\n",
      "Int64Index: 277 entries, 0 to 343\n",
      "Data columns (total 26 columns):\n",
      "incident_number                  277 non-null int64\n",
      "incident_type                    277 non-null object\n",
      "incident_date                    277 non-null object\n",
      "incident_location                277 non-null object\n",
      "city                             277 non-null object\n",
      "state                            277 non-null object\n",
      "zip                              277 non-null float64\n",
      "reporting_district               277 non-null float64\n",
      "geo_location                     277 non-null object\n",
      "suspect_age                      277 non-null float64\n",
      "suspect_race                     277 non-null object\n",
      "mental_health_concerns           277 non-null int64\n",
      "criminal_history                 277 non-null int64\n",
      "wounded                          277 non-null int64\n",
      "deceased                         277 non-null int64\n",
      "on_probation                     277 non-null object\n",
      "on_parole                        277 non-null object\n",
      "under_the_influence              277 non-null int64\n",
      "of_involved_deputies             277 non-null int64\n",
      "weapon_involved_category         277 non-null object\n",
      "weapon_involved_category_desc    277 non-null object\n",
      "approx_latitude                  277 non-null float64\n",
      "approx_longitude                 277 non-null float64\n",
      ":@computed_region_x8wy_s94z      277 non-null int64\n",
      ":@computed_region_cbw7_skn5      271 non-null float64\n",
      "substance_name                   96 non-null object\n",
      "dtypes: float64(6), int64(8), object(12)\n",
      "memory usage: 58.4+ KB\n"
     ]
    }
   ],
   "source": [
    "df.info()"
   ]
  },
  {
   "cell_type": "markdown",
   "metadata": {},
   "source": [
    "# Do some Initial Visualizations."
   ]
  },
  {
   "cell_type": "code",
   "execution_count": 179,
   "metadata": {},
   "outputs": [
    {
     "data": {
      "image/png": "[encoded data removed]",
      "text/plain": [
       "<Figure size 3456x864 with 1 Axes>"
      ]
     },
     "metadata": {
      "needs_background": "light"
     },
     "output_type": "display_data"
    }
   ],
   "source": [
    "plt.figure(figsize=[48, 12])\n",
    "plt.rcParams.update({'font.size': 35})\n",
    "plt.bar(df['of_involved_deputies'], df['suspect_age'])\n",
    "plt.xlabel('Number of Involved Deputies')\n",
    "plt.ylabel('Suspect Age')\n",
    "plt.title('Number of Officer-Involved Shootings')\n",
    "plt.xticks(rotation=90)\n",
    "\n",
    "plt.show()"
   ]
  },
  {
   "cell_type": "markdown",
   "metadata": {},
   "source": [
    "### Notice that there were 7 officers involved in the shooting incident of the 20-year-old and one officer involved in the shooting incident of the 80-year-old whereas, there were 11 officers involved in the incident with the 55-year-old suspect. So far no obvious pattern due to age of suspect."
   ]
  },
  {
   "cell_type": "code",
   "execution_count": 180,
   "metadata": {},
   "outputs": [
    {
     "data": {
      "image/png": "[encoded data removed]",
      "text/plain": [
       "<Figure size 3456x864 with 1 Axes>"
      ]
     },
     "metadata": {
      "needs_background": "light"
     },
     "output_type": "display_data"
    }
   ],
   "source": [
    "plt.figure(figsize=[48, 12])\n",
    "plt.rcParams.update({'font.size': 35})\n",
    "plt.bar(df['mental_health_concerns'], df['deceased'])\n",
    "plt.xlabel('Number of Involved Deputies')\n",
    "plt.ylabel('Suspect Age')\n",
    "plt.title('Number of Officer-Involved Shootings')\n",
    "plt.xticks(rotation=90)\n",
    "\n",
    "plt.show()"
   ]
  },
  {
   "cell_type": "markdown",
   "metadata": {},
   "source": [
    "# Identify interesting correlations"
   ]
  },
  {
   "cell_type": "code",
   "execution_count": 181,
   "metadata": {},
   "outputs": [
    {
     "data": {
      "text/plain": [
       "Index(['incident_number', 'incident_type', 'incident_date',\n",
       "       'incident_location', 'city', 'state', 'zip', 'reporting_district',\n",
       "       'geo_location', 'suspect_age', 'suspect_race', 'mental_health_concerns',\n",
       "       'criminal_history', 'wounded', 'deceased', 'on_probation', 'on_parole',\n",
       "       'under_the_influence', 'of_involved_deputies',\n",
       "       'weapon_involved_category', 'weapon_involved_category_desc',\n",
       "       'approx_latitude', 'approx_longitude', ':@computed_region_x8wy_s94z',\n",
       "       ':@computed_region_cbw7_skn5', 'substance_name'],\n",
       "      dtype='object')"
      ]
     },
     "execution_count": 181,
     "metadata": {},
     "output_type": "execute_result"
    }
   ],
   "source": [
    "df.columns"
   ]
  },
  {
   "cell_type": "markdown",
   "metadata": {},
   "source": [
    "## Get the number of those wounded, deceased and with mental health concerns"
   ]
  },
  {
   "cell_type": "code",
   "execution_count": 182,
   "metadata": {},
   "outputs": [],
   "source": [
    "def get_stats(col): #define the function\n",
    "    '''this function calculates the number of suspects involved in the police shootings with the associated \n",
    "    criteria as described in the column of the dataset (col) takes input from the column name and then the \n",
    "    function outputs the column name as a string into the print statement after a boolean check for Y indicating a \n",
    "    kill, wounding or mental health concern or whatever else is input to the (col) parameter'''\n",
    "    sus = df[col].value_counts() #get the counts of the entries with 'Y' and assign to a variable\n",
    "    sus = dict(sus) #convert into a dictionary in order to access as key:value\n",
    "    \n",
    "    for i in sus: #iterate through the dictionary\n",
    "        if i == 1: #boolean check for '1' or yes to the condition\n",
    "            print('There were ', sus[i], 'suspects documented as',col, 'in police shootings in the observation period.') #print only the positive entries         "
   ]
  },
  {
   "cell_type": "code",
   "execution_count": 183,
   "metadata": {},
   "outputs": [
    {
     "name": "stdout",
     "output_type": "stream",
     "text": [
      "There were  104 suspects documented as deceased in police shootings in the observation period.\n",
      "There were  116 suspects documented as wounded in police shootings in the observation period.\n",
      "There were  32 suspects documented as mental_health_concerns in police shootings in the observation period.\n"
     ]
    }
   ],
   "source": [
    "get_stats('deceased')\n",
    "get_stats('wounded')\n",
    "get_stats('mental_health_concerns')"
   ]
  },
  {
   "cell_type": "markdown",
   "metadata": {},
   "source": [
    "# Map the police shootings with Folium"
   ]
  },
  {
   "cell_type": "markdown",
   "metadata": {},
   "source": [
    "## Remove any rows with NaN values as Folium will error on NaN's"
   ]
  },
  {
   "cell_type": "code",
   "execution_count": 233,
   "metadata": {},
   "outputs": [
    {
     "name": "stdout",
     "output_type": "stream",
     "text": [
      "The number of rows dropped is  0\n",
      "The current number of rows is now  277\n"
     ]
    }
   ],
   "source": [
    "old_coord_row_count = df.shape[0] #save the column count for calculating the number of dropped columns later\n",
    "\n",
    "df = df.dropna(how='any', subset=['approx_latitude', 'approx_longitude'])\n",
    "df.isnull().sum()\n",
    "new_coord_row_count = df.shape[0]\n",
    "\n",
    "print('The number of rows dropped is ', new_coord_row_count - old_coord_row_count)\n",
    "print('The current number of rows is now ', df.shape[0])"
   ]
  },
  {
   "cell_type": "markdown",
   "metadata": {},
   "source": [
    "### First create two lists to hold my lat and long coordinates"
   ]
  },
  {
   "cell_type": "code",
   "execution_count": 328,
   "metadata": {},
   "outputs": [
    {
     "name": "stdout",
     "output_type": "stream",
     "text": [
      "lat is  <class 'list'>\n",
      "long is <class 'list'>\n",
      "[[33.881832], [33.90574174912721], [33.85705101617263], [33.953839], [33.953839]]\n",
      "[[-118.282796], [-118.25189214720194], [-118.07228900610721], [-118.202349], [-118.202349]]\n"
     ]
    }
   ],
   "source": [
    "lat = df.iloc[:,[21]]\n",
    "long = df.iloc[:,[22]]\n",
    "\n",
    "lat = lat.values.tolist()\n",
    "long = long.values.tolist()\n",
    "print('lat is ',type(lat))\n",
    "print('long is', type(long))\n",
    "print(lat[:5])\n",
    "print(long[:5])"
   ]
  },
  {
   "cell_type": "markdown",
   "metadata": {},
   "source": [
    "## Use Pandas .itterows() to build a list from the lat and long columns so I can feed a full coordinate into Folium"
   ]
  },
  {
   "cell_type": "code",
   "execution_count": 331,
   "metadata": {},
   "outputs": [],
   "source": [
    "coord_complete = [] #new empty list\n",
    "\n",
    "for index, row in df.iterrows(): #iterate through the rows for the lat long columns\n",
    "    coord_complete += (row['approx_latitude'], row['approx_longitude']) #add the lat long to the new list "
   ]
  },
  {
   "cell_type": "code",
   "execution_count": 332,
   "metadata": {},
   "outputs": [
    {
     "name": "stdout",
     "output_type": "stream",
     "text": [
      "[33.881832, -118.282796, 33.90574174912721, -118.25189214720194, 33.85705101617263, -118.07228900610721, 33.953839, -118.202349, 33.953839, -118.202349, 33.980614, -118.197058, 34.048984, -118.18256, 34.021752, -118.165857, 33.926853, -118.236724, 33.79047887620167, -118.30756511042138, 33.829523, -118.077365, 33.878472, -118.1207, 34.016546, -118.183704, 34.15647, -117.910953, 34.193135, -118.134092, 34.017734, -117.916877, 33.888315, -118.122013, 33.833954, -118.163506, 34.143549, -118.395437, 33.637413, -117.664361, 33.637413, -117.664361, 33.637413, -117.664361, 34.421681, -118.491432, 33.892958, -118.265233, 33.934773, -118.278108, 34.378042, -118.566563, 33.923716, -118.254326, 33.957423, -118.260254, 34.66809, -118.163453, 34.09075, -118.367162, 34.09075, -118.367162, 34.014957, -118.16362, 33.92126399268968, -118.20953801765012, 33.986252, -118.217394, 33.907991, -118.239173, 33.934969, -118.193581, 34.196814, -118.157069, 33.907957, -118.070772, 33.920875, -118.245665, 33.886113, -118.225869, 33.98808, -117.90122, 34.042411, -118.164841, 33.796885, -118.275242, 34.647256, -118.25124, 33.966244, -118.25858, 34.100974, -118.009518, 34.04343, -118.177967, 34.550873, -118.071451, 34.03984599003457, -118.05171500598513, 34.01766998786856, -118.17897601662108, 34.178443, -118.131826, 34.03324, -118.169147, 34.070328, -117.453668, 34.601786, -118.120609, 33.841764, -118.153149, 33.916347, -118.262711, 34.142774, -118.073242, 34.142774, -118.073242, 33.926323, -118.282588, 33.95317990369353, -118.2515651408193, 33.970271, -118.260616, 33.970271, -118.260616, 34.572503, -118.129322, 34.090586, -118.38975, 33.93113097976049, -118.2462580258388, 33.971921, -118.236815, 33.971921, -118.236815, 33.929468, -118.25428, 34.028682, -118.232214, 33.916427, -118.343873, 34.03813, -118.280456, 33.970632, -118.201978, 34.237522, -118.485047, 34.014597, -118.180012, 33.887564, -118.254348, 33.872686, -118.057597, 33.872686, -118.057597, 34.566778, -118.074555, 34.007268, -117.898065, 33.925936, -118.095671, 33.928331, -118.081753, 34.035250538345565, -117.97699300116035, 34.070999, -118.230158, 33.76871, -118.403184, 33.884696, -118.144659, 34.09202, -118.039953, 33.909396, -118.158242, 33.914059, -118.102426, 34.685839, -118.147972, 33.902653, -118.230139, 33.937831, -118.360227, 34.698743, -118.132932, 33.901344, -118.224241, 33.905226, -118.214631, 34.014831, -118.080655, 33.883274, -118.159964, 33.986923, -118.094032, 33.877673, -118.067065, 33.901696, -118.253296, 33.943123, -118.234839, 33.83404302223223, -118.07651800736792, 33.83404302223223, -118.07651800736792, 33.960158, -118.243073, 33.871191, -118.125184, 34.601522, -117.832055, 34.025035988601715, -117.95933102562562, 33.8814869855469, -118.22778000527532, 33.909089, -118.243098, 33.786534, -118.272592, 33.786534, -118.272592, 33.885734, -118.240825, 33.920226, -118.187786, 33.909965, -118.208887, 33.891935, -118.207681, 34.582596, -118.121879, 33.917363, -118.300408, 33.898364, -118.209512, 33.8903211126373, -118.13380412748718, 33.78273600103987, -118.21548000742128, 33.836654, -118.285976, 33.901986, -118.238676, 34.040611, -118.03605, 33.911105, -118.208963, 33.884018, -118.151345, 34.03694347384903, -118.16027149723665, 33.949088, -118.349176, 33.884327, -118.07976, 33.896898, -118.205425, 33.896898, -118.205425, 34.716759, -118.147769, 33.921702, -118.23899, 33.906154, -118.194778, 33.96580897884492, -118.2499030259498, 33.925162, -118.246416, 33.975299, -118.075184, 33.98877699757226, -118.06652900741804, 33.94679698972651, -118.30679698825921, 33.980835, -118.256358, 34.018718, -117.865087, 33.89015, -118.269814, 33.916646, -118.199703, 33.989961, -118.203349, 33.944978, -118.180758, 33.930622, -118.291581, 34.053313, -118.220551, 33.93709699699831, -118.23902601052143, 34.425456997911546, -118.44879297512091, 33.969949, -118.195354, 33.901823, -118.173125, 33.984765, -118.245342, 34.175726, -118.427941, 33.898527, -118.205139, 33.944089, -118.298492, 34.034448, -117.94669, 33.899185, -118.243131, 34.557516, -117.919886, 33.982453, -118.062603, 33.884753, -118.20588, 33.99861397860066, -118.08419000582316, 34.009238, -118.253793, 33.921184, -118.296362, 33.908389, -118.236121, 34.05272684942028, -118.1783855814234, 33.982041, -118.249885, 34.033221, -118.171927, 34.033221, -118.171927, 33.889076, -118.171578, 34.043173, -118.356797, 34.006282, -118.428977, 34.485702, -118.636172, 33.909747, -118.09492, 33.88556, -118.117335, 33.945462, -118.342009, 33.885488, -118.169069, 33.971916, -118.107992, 33.849207, -118.191563, 34.055388, -118.08504, 34.101714, -118.312239, 34.119987, -117.992453, 34.119987, -117.992453, 33.896936, -118.226488, 33.91802, -118.229482, 34.416026986202446, -118.45865697431232, 34.007462, -118.095392, 34.009463, -117.88471, 33.78985, -118.178393, 34.669063, -118.158656, 33.886765, -118.225919, 33.886765, -118.225919, 34.087659, -118.382901, 34.087659, -118.382901, 34.02163033089236, -118.14077009956586, 33.936467, -118.209777, 33.991214, -118.196155, 34.036036, -118.184622, 34.095248, -118.372652, 33.879473, -118.204286, 33.89835897549747, -118.2095000156428, 33.89835897549747, -118.2095000156428, 34.471554, -117.172646, 33.842170159629504, -118.27726154190631, 33.993633, -118.087458, 33.993633, -118.087458, 33.969153, -118.225208, 33.926472, -118.273893, 33.874752, -118.14454, 33.916817, -118.217536, 33.8959089820034, -118.23563101878302, 33.991116, -118.256328, 34.017217983073046, -118.16292001415275, 33.902299, -118.151397, 33.881847, -118.349682, 34.623568, -118.218742, 34.018034, -118.156987, 34.018034, -118.156987, 33.808013, -118.270683, 33.989917, -118.064027, 33.895891, -118.224837, 33.80162718333326, -118.32536386197714, 34.020610940236864, -118.19119472488843, 34.37005299460936, -118.50815597679114, 33.85268, -118.2417, 34.180031, -118.13645, 33.833696, -118.067747, 33.971357, -118.230225, 34.00549, -118.289087, 33.940006999255985, -118.29183402516512, 33.94408299312416, -118.29182501144271, 33.955608, -118.232838, 33.875823, -118.050441, 33.896088, -118.207962, 34.186215, -118.477398, 34.12873299795925, -117.89008502427079, 33.901577, -118.246729, 34.733112, -118.182423, 33.833279, -118.071703, 33.856293, -118.124029, 34.138695, -118.082945, 33.892863, -118.236222, 33.954779, -118.113381, 33.886496, -118.19772, 34.030814, -118.006742, 33.934825, -118.283113, 33.916487, -118.081872, 33.887127, -118.262318, 34.715187, -118.149901, 34.419699, -118.46001, 34.682284, -118.079249, 33.894729, -118.175544, 33.90905, -118.23924, 34.490701, -118.617673, 33.94186, -118.361324, 34.221645, -118.428888, 33.789566, -118.32553, 34.013914, -118.492011, 34.674942, -118.185427, 34.241272, -118.570275, 33.901854, -117.983398, 33.958965, -118.295898, 33.978779, -117.97434, 34.017974, -118.065606, 34.204816, -118.448737, 33.987686, -118.36568, 33.94865, -118.036441, 34.103015, -118.07549, 33.954482, -118.246867, 33.903225, -118.216287, 33.929346, -118.252257, 34.061364, -117.978351, 34.22095, -118.519733, 33.910983, -118.231595, 34.377031, -118.510765, 33.862836, -118.076735, 33.87295, -118.082145, 34.044182, -118.161924, 33.88842, -118.237096, 33.88842, -118.237096]\n"
     ]
    }
   ],
   "source": [
    "print(coord_complete)"
   ]
  },
  {
   "cell_type": "markdown",
   "metadata": {},
   "source": [
    "# Now Plot An Interactive Map"
   ]
  },
  {
   "cell_type": "code",
   "execution_count": 189,
   "metadata": {},
   "outputs": [
    {
     "data": {
      "text/html": [
       "<div style=\"width:100%;\"><div style=\"position:relative;width:100%;height:0;padding-bottom:60%;\"><iframe src=\"data:text/html;charset=utf-8;base64,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\" style=\"position:absolute;width:100%;height:100%;left:0;top:0;border:none !important;\" allowfullscreen webkitallowfullscreen mozallowfullscreen></iframe></div></div>"
      ],
      "text/plain": [
       "<folium.folium.Map at 0x12e1f19c048>"
      ]
     },
     "execution_count": 189,
     "metadata": {},
     "output_type": "execute_result"
    }
   ],
   "source": [
    "la_coords = (34.0522, -118.2437)\n",
    "\n",
    "# create empty map zoomed in to Los Angeles\n",
    "m = folium.Map(location=la_coords, zoom_start=15)\n",
    "\n",
    "tooltip = 'Click for more info!'\n",
    "\n",
    "for item in \n",
    "'''\n",
    "folium.Marker([34.0522, -118.2437], popup='<i>Mt. Hood Meadows</i>', tooltip=tooltip).add_to(m)\n",
    "folium.Marker([34.0542, -118.2457], popup='<b>Timberline Lodge</b>', tooltip=tooltip).add_to(m)\n",
    "'''\n",
    "\n",
    "m\n",
    "\n",
    "\n"
   ]
  },
  {
   "cell_type": "code",
   "execution_count": 160,
   "metadata": {},
   "outputs": [
    {
     "name": "stdout",
     "output_type": "stream",
     "text": [
      "lat is  <class 'list'>\n",
      "long is <class 'list'>\n",
      "[[33.881832], [33.90574174912721], [33.85705101617263], [33.953839], [33.953839]]\n",
      "[[-118.282796], [-118.25189214720194], [-118.07228900610721], [-118.202349], [-118.202349]]\n"
     ]
    }
   ],
   "source": []
  },
  {
   "cell_type": "code",
   "execution_count": null,
   "metadata": {},
   "outputs": [],
   "source": []
  }
 ],
 "metadata": {
  "kernelspec": {
   "display_name": "Python 3",
   "language": "python",
   "name": "python3"
  },
  "language_info": {
   "codemirror_mode": {
    "name": "ipython",
    "version": 3
   },
   "file_extension": ".py",
   "mimetype": "text/x-python",
   "name": "python",
   "nbconvert_exporter": "python",
   "pygments_lexer": "ipython3",
   "version": "3.7.4"
  }
 },
 "nbformat": 4,
 "nbformat_minor": 4
}
