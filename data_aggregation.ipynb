{
 "cells": [
  {
   "cell_type": "markdown",
   "metadata": {},
   "source": [
    "### The data for this notebook can be found here:\n",
    "\n",
    "https://www.kaggle.com/unsdsn/world-happiness"
   ]
  },
  {
   "cell_type": "markdown",
   "metadata": {},
   "source": [
    "# This notebook is an exercise and Exploration into Data Agrregation.\n",
    "#### In this notebook I will work with data from from two different datasets and combine, merge and perform various statistical and plotting functions with them. This is an expansion on the lesson from the Dataquest mission on the subject. I felt I needed to do some more work to truly understand this important topic of data analysis and manipulation before I could move on to the next lessons."
   ]
  },
  {
   "cell_type": "markdown",
   "metadata": {},
   "source": [
    "# Basic libraries for the work ahead"
   ]
  },
  {
   "cell_type": "code",
   "execution_count": 22,
   "metadata": {},
   "outputs": [],
   "source": [
    "import pandas as pd\n",
    "import numpy as np\n",
    "\n",
    "import matplotlib.pyplot as plt\n",
    "%matplotlib inline"
   ]
  },
  {
   "cell_type": "markdown",
   "metadata": {},
   "source": [
    "# Read in the datasets we want to work with"
   ]
  },
  {
   "cell_type": "code",
   "execution_count": 57,
   "metadata": {},
   "outputs": [],
   "source": [
    "df_2015 = pd.read_csv(r'C:\\Users\\emack\\Documents\\Sandbox\\world-happiness\\2015.csv')\n",
    "df_2016 = pd.read_csv(r'C:\\Users\\emack\\Documents\\Sandbox\\world-happiness\\2016.csv')"
   ]
  },
  {
   "cell_type": "markdown",
   "metadata": {},
   "source": [
    "### Get some info about the datasets and do some basic cleanup."
   ]
  },
  {
   "cell_type": "code",
   "execution_count": 58,
   "metadata": {},
   "outputs": [
    {
     "name": "stdout",
     "output_type": "stream",
     "text": [
      "The 2015 dataset has  (158, 12) rows and columns respectively.\n",
      "The 2016 dataset has  (157, 13) rows and columns respectively.\n"
     ]
    }
   ],
   "source": [
    "print('The 2015 dataset has ', df_2015.shape, 'rows and columns respectively.')\n",
    "print('The 2016 dataset has ', df_2016.shape, 'rows and columns respectively.')"
   ]
  },
  {
   "cell_type": "markdown",
   "metadata": {},
   "source": [
    "### Check for null entries"
   ]
  },
  {
   "cell_type": "code",
   "execution_count": 34,
   "metadata": {},
   "outputs": [
    {
     "data": {
      "text/plain": [
       "Country                          0\n",
       "Region                           0\n",
       "Happiness Rank                   0\n",
       "Happiness Score                  0\n",
       "Standard Error                   0\n",
       "Economy (GDP per Capita)         0\n",
       "Family                           0\n",
       "Health (Life Expectancy)         0\n",
       "Freedom                          0\n",
       "Trust (Government Corruption)    0\n",
       "Generosity                       0\n",
       "Dystopia Residual                0\n",
       "dtype: int64"
      ]
     },
     "execution_count": 34,
     "metadata": {},
     "output_type": "execute_result"
    }
   ],
   "source": [
    "df_2015.isnull().sum()"
   ]
  },
  {
   "cell_type": "code",
   "execution_count": 26,
   "metadata": {},
   "outputs": [
    {
     "data": {
      "text/plain": [
       "Country                          0\n",
       "Region                           0\n",
       "Happiness Rank                   0\n",
       "Happiness Score                  0\n",
       "Lower Confidence Interval        0\n",
       "Upper Confidence Interval        0\n",
       "Economy (GDP per Capita)         0\n",
       "Family                           0\n",
       "Health (Life Expectancy)         0\n",
       "Freedom                          0\n",
       "Trust (Government Corruption)    0\n",
       "Generosity                       0\n",
       "Dystopia Residual                0\n",
       "dtype: int64"
      ]
     },
     "execution_count": 26,
     "metadata": {},
     "output_type": "execute_result"
    }
   ],
   "source": [
    "df_2016.isnull().sum()"
   ]
  },
  {
   "cell_type": "markdown",
   "metadata": {},
   "source": [
    "### From the output above it looks like the data is pretty clean with no NaN's. "
   ]
  },
  {
   "cell_type": "markdown",
   "metadata": {},
   "source": [
    "### Let's get some information about the data types in each column, (i.e.) float, date, text, etc."
   ]
  },
  {
   "cell_type": "code",
   "execution_count": 27,
   "metadata": {},
   "outputs": [
    {
     "name": "stdout",
     "output_type": "stream",
     "text": [
      "<class 'pandas.core.frame.DataFrame'>\n",
      "RangeIndex: 158 entries, 0 to 157\n",
      "Data columns (total 12 columns):\n",
      "Country                          158 non-null object\n",
      "Region                           158 non-null object\n",
      "Happiness Rank                   158 non-null int64\n",
      "Happiness Score                  158 non-null float64\n",
      "Standard Error                   158 non-null float64\n",
      "Economy (GDP per Capita)         158 non-null float64\n",
      "Family                           158 non-null float64\n",
      "Health (Life Expectancy)         158 non-null float64\n",
      "Freedom                          158 non-null float64\n",
      "Trust (Government Corruption)    158 non-null float64\n",
      "Generosity                       158 non-null float64\n",
      "Dystopia Residual                158 non-null float64\n",
      "dtypes: float64(9), int64(1), object(2)\n",
      "memory usage: 14.9+ KB\n"
     ]
    }
   ],
   "source": [
    "df_2015.info()"
   ]
  },
  {
   "cell_type": "code",
   "execution_count": 28,
   "metadata": {},
   "outputs": [
    {
     "name": "stdout",
     "output_type": "stream",
     "text": [
      "<class 'pandas.core.frame.DataFrame'>\n",
      "RangeIndex: 157 entries, 0 to 156\n",
      "Data columns (total 13 columns):\n",
      "Country                          157 non-null object\n",
      "Region                           157 non-null object\n",
      "Happiness Rank                   157 non-null int64\n",
      "Happiness Score                  157 non-null float64\n",
      "Lower Confidence Interval        157 non-null float64\n",
      "Upper Confidence Interval        157 non-null float64\n",
      "Economy (GDP per Capita)         157 non-null float64\n",
      "Family                           157 non-null float64\n",
      "Health (Life Expectancy)         157 non-null float64\n",
      "Freedom                          157 non-null float64\n",
      "Trust (Government Corruption)    157 non-null float64\n",
      "Generosity                       157 non-null float64\n",
      "Dystopia Residual                157 non-null float64\n",
      "dtypes: float64(10), int64(1), object(2)\n",
      "memory usage: 16.1+ KB\n"
     ]
    }
   ],
   "source": [
    "df_2016.info()"
   ]
  },
  {
   "cell_type": "markdown",
   "metadata": {},
   "source": [
    "### From the output above it looks like most of the rows are float64 except for the 'Country' and 'Region' columns wich are 'object' data types likely strings. \n",
    "\n",
    "At this point it seems like we don't need to do anything with the data so let's beging some aggregation work."
   ]
  },
  {
   "cell_type": "markdown",
   "metadata": {},
   "source": [
    "### The plot below shows why I need to pull the data together in a more usefull way."
   ]
  },
  {
   "cell_type": "code",
   "execution_count": 8,
   "metadata": {},
   "outputs": [
    {
     "data": {
      "image/png": "[encoded data removed]",
      "text/plain": [
       "<Figure size 432x288 with 1 Axes>"
      ]
     },
     "metadata": {
      "needs_background": "light"
     },
     "output_type": "display_data"
    }
   ],
   "source": [
    "df_2015['Happiness Score'].plot(kind='bar', title='Happiness Scores', ylim=(0,10))\n",
    "\n",
    "plt.show()"
   ]
  },
  {
   "cell_type": "markdown",
   "metadata": {},
   "source": [
    "The bar chart above is pretty hard to read as every happiness score is plotted out and the country names all run together. Let's start fixing the problem. Let's take a look at the scores arranged by specific world regions of observation."
   ]
  },
  {
   "cell_type": "code",
   "execution_count": 9,
   "metadata": {},
   "outputs": [
    {
     "name": "stdout",
     "output_type": "stream",
     "text": [
      "['Western Europe' 'North America' 'Australia and New Zealand'\n",
      " 'Middle East and Northern Africa' 'Latin America and Caribbean'\n",
      " 'Southeastern Asia' 'Central and Eastern Europe' 'Eastern Asia'\n",
      " 'Sub-Saharan Africa' 'Southern Asia']\n",
      "\n",
      "There are  10 unique regions referenced in the dataset.\n"
     ]
    }
   ],
   "source": [
    "region_unique = df_2015['Region'].unique() #get the number of unique region names\n",
    "print(region_unique)\n",
    "#get a count of the number of unique regions\n",
    "print('\\nThere are ', len(region_unique), 'unique regions referenced in the dataset.') "
   ]
  },
  {
   "cell_type": "markdown",
   "metadata": {},
   "source": [
    "### Let's plot the scores by region and see if it's easier to understand the data"
   ]
  },
  {
   "cell_type": "code",
   "execution_count": 10,
   "metadata": {},
   "outputs": [
    {
     "data": {
      "image/png": "[encoded data removed]",
      "text/plain": [
       "<Figure size 432x288 with 1 Axes>"
      ]
     },
     "metadata": {
      "needs_background": "light"
     },
     "output_type": "display_data"
    }
   ],
   "source": [
    "nor_america = df_2015[df_2015['Region'] == 'North America'] #boolean filter to isolote just the north american scores\n",
    "nor_america.plot(x='Country', y='Happiness Score', kind='barh', title='North America Happiness Scores', xlim=(0,10))\n",
    "\n",
    "plt.show()"
   ]
  },
  {
   "cell_type": "code",
   "execution_count": 12,
   "metadata": {},
   "outputs": [
    {
     "data": {
      "image/png": "[encoded data removed]",
      "text/plain": [
       "<Figure size 432x288 with 1 Axes>"
      ]
     },
     "metadata": {
      "needs_background": "light"
     },
     "output_type": "display_data"
    }
   ],
   "source": [
    "wes_europe = df_2015[df_2015['Region'] == 'Western Europe'] #boolean filter to isolote just the Western Europe scores\n",
    "wes_europe.plot(x='Country', y='Happiness Score', kind='barh', title='Western Europe Happiness Scores', xlim=(0,10))\n",
    "\n",
    "plt.show()"
   ]
  },
  {
   "cell_type": "markdown",
   "metadata": {},
   "source": [
    "#### From the two plots above we can clearly understand the relationship between countries by reqion and the happiness scores for those regions. Basically we performed the following above:\n",
    "\n",
    "* Split the dataframe into groups using a boolean filter that relates to the area of interest in my investigation.\n",
    "\n",
    "* Combine the results into one data structure-the 'wes_europe' dataframe in this case.\n",
    "\n",
    "* Next I can apply a function to the new, more narrowly focused dataframe.\n",
    "\n"
   ]
  },
  {
   "cell_type": "markdown",
   "metadata": {},
   "source": [
    "## This is the  Python loop method of grouping and aggregating. Let's check it out just so I know how it works. "
   ]
  },
  {
   "cell_type": "code",
   "execution_count": 18,
   "metadata": {},
   "outputs": [],
   "source": [
    "mean_happiness = {}\n",
    "regions = df_2015['Region'].unique()\n",
    "\n",
    "for region in regions:\n",
    "    #1. Split the dataframe into groups.\n",
    "    region_group = df_2015[df_2015['Region'] == region]\n",
    "    #2. Apply a function to each group.\n",
    "    region_mean = region_group['Happiness Score'].mean()\n",
    "    #3. Combine the results into one data structure.\n",
    "    mean_happiness[region] = region_mean"
   ]
  },
  {
   "cell_type": "markdown",
   "metadata": {},
   "source": [
    "### Because matplotlib can't directly plot a dictionary object I will convert it to two different lists to plot on the x and y of my bar plot"
   ]
  },
  {
   "cell_type": "code",
   "execution_count": 19,
   "metadata": {},
   "outputs": [],
   "source": [
    "#use the .item() function to create a new 'view' of the dictionary for iteration\n",
    "#see: https://docs.python.org/3.8/library/stdtypes.html#dict-views\n",
    "\n",
    "item_key = []\n",
    "item_value = []\n",
    "\n",
    "for item in mean_happiness.items(): #use the .items() function and iterate through the dictionary\n",
    "    item_key.append(item[0]) #save the dictionary key for the x axis\n",
    "    item_value.append(item[1]) #save the dictionary value for the y axis\n"
   ]
  },
  {
   "cell_type": "code",
   "execution_count": 20,
   "metadata": {},
   "outputs": [
    {
     "data": {
      "image/png": "[encoded data removed]",
      "text/plain": [
       "<Figure size 720x432 with 1 Axes>"
      ]
     },
     "metadata": {
      "needs_background": "light"
     },
     "output_type": "display_data"
    }
   ],
   "source": [
    "# Define plot space\n",
    "fig, ax = plt.subplots(figsize=(10, 6))\n",
    "plt.xticks(rotation=45)\n",
    "plt.xlabel('Region in Focus')\n",
    "plt.ylabel('Happiness Score on a Scale of 1-10')\n",
    "plt.title('Happiness Score by Region')\n",
    "\n",
    "# Create bar plot\n",
    "ax.bar(item_key, item_value)\n",
    "\n",
    "plt.show()"
   ]
  },
  {
   "cell_type": "markdown",
   "metadata": {},
   "source": [
    "https://pandas.pydata.org/pandas-docs/stable/reference/api/pandas.DataFrame.groupby.html\n",
    "\n",
    "# Using the Pandas groupby method. \n",
    "### A groupby operation involves some combination of splitting the object, applying a function, and combining the results. This can be used to group large amounts of data and compute operations on these groups.\n",
    "\n",
    "DataFrame.groupby(self, by=None, axis=0, level=None, as_index=True, sort=True, group_keys=True, squeeze=False, observed=False, **kwargs)\n"
   ]
  },
  {
   "cell_type": "code",
   "execution_count": 67,
   "metadata": {},
   "outputs": [],
   "source": [
    "#here we create a new dataset grouped by the 'Region' column\n",
    "df_grouped = df_2015.groupby('Region') "
   ]
  },
  {
   "cell_type": "markdown",
   "metadata": {},
   "source": [
    "# Construct DataFrame from group with provided name.\n",
    "GroupBy.get_group(self, name, obj=None)\n",
    "\n",
    "https://pandas.pydata.org/pandas-docs/stable/reference/api/pandas.core.groupby.GroupBy.get_group.html"
   ]
  },
  {
   "cell_type": "code",
   "execution_count": 69,
   "metadata": {},
   "outputs": [
    {
     "data": {
      "text/html": [
       "<div>\n",
       "<style scoped>\n",
       "    .dataframe tbody tr th:only-of-type {\n",
       "        vertical-align: middle;\n",
       "    }\n",
       "\n",
       "    .dataframe tbody tr th {\n",
       "        vertical-align: top;\n",
       "    }\n",
       "\n",
       "    .dataframe thead th {\n",
       "        text-align: right;\n",
       "    }\n",
       "</style>\n",
       "<table border=\"1\" class=\"dataframe\">\n",
       "  <thead>\n",
       "    <tr style=\"text-align: right;\">\n",
       "      <th></th>\n",
       "      <th>Country</th>\n",
       "      <th>Region</th>\n",
       "      <th>Happiness Rank</th>\n",
       "      <th>Happiness Score</th>\n",
       "      <th>Standard Error</th>\n",
       "      <th>Economy (GDP per Capita)</th>\n",
       "      <th>Family</th>\n",
       "      <th>Health (Life Expectancy)</th>\n",
       "      <th>Freedom</th>\n",
       "      <th>Trust (Government Corruption)</th>\n",
       "      <th>Generosity</th>\n",
       "      <th>Dystopia Residual</th>\n",
       "    </tr>\n",
       "  </thead>\n",
       "  <tbody>\n",
       "    <tr>\n",
       "      <td>4</td>\n",
       "      <td>Canada</td>\n",
       "      <td>North America</td>\n",
       "      <td>5</td>\n",
       "      <td>7.427</td>\n",
       "      <td>0.03553</td>\n",
       "      <td>1.32629</td>\n",
       "      <td>1.32261</td>\n",
       "      <td>0.90563</td>\n",
       "      <td>0.63297</td>\n",
       "      <td>0.32957</td>\n",
       "      <td>0.45811</td>\n",
       "      <td>2.45176</td>\n",
       "    </tr>\n",
       "    <tr>\n",
       "      <td>14</td>\n",
       "      <td>United States</td>\n",
       "      <td>North America</td>\n",
       "      <td>15</td>\n",
       "      <td>7.119</td>\n",
       "      <td>0.03839</td>\n",
       "      <td>1.39451</td>\n",
       "      <td>1.24711</td>\n",
       "      <td>0.86179</td>\n",
       "      <td>0.54604</td>\n",
       "      <td>0.15890</td>\n",
       "      <td>0.40105</td>\n",
       "      <td>2.51011</td>\n",
       "    </tr>\n",
       "  </tbody>\n",
       "</table>\n",
       "</div>"
      ],
      "text/plain": [
       "          Country         Region  Happiness Rank  Happiness Score  \\\n",
       "4          Canada  North America               5            7.427   \n",
       "14  United States  North America              15            7.119   \n",
       "\n",
       "    Standard Error  Economy (GDP per Capita)   Family  \\\n",
       "4          0.03553                   1.32629  1.32261   \n",
       "14         0.03839                   1.39451  1.24711   \n",
       "\n",
       "    Health (Life Expectancy)  Freedom  Trust (Government Corruption)  \\\n",
       "4                    0.90563  0.63297                        0.32957   \n",
       "14                   0.86179  0.54604                        0.15890   \n",
       "\n",
       "    Generosity  Dystopia Residual  \n",
       "4      0.45811            2.45176  \n",
       "14     0.40105            2.51011  "
      ]
     },
     "execution_count": 69,
     "metadata": {},
     "output_type": "execute_result"
    }
   ],
   "source": [
    "#using the pandaas get_group we select the region data for the 'North America' group\n",
    "df_grouped.get_group('North America')"
   ]
  },
  {
   "cell_type": "markdown",
   "metadata": {},
   "source": [
    "# Get information about the group object\n",
    "\n",
    "### GroupBy.groups Dict {group name -> group labels}. Returns a dictionary containing the group labels and the row indexes.\n",
    "\n",
    "\n",
    "https://pandas.pydata.org/pandas-docs/stable/reference/api/pandas.core.groupby.GroupBy.groups.html"
   ]
  },
  {
   "cell_type": "code",
   "execution_count": 71,
   "metadata": {},
   "outputs": [
    {
     "data": {
      "text/plain": [
       "{'Australia and New Zealand': Int64Index([8, 9], dtype='int64'),\n",
       " 'Central and Eastern Europe': Int64Index([ 30,  43,  44,  51,  53,  54,  55,  58,  59,  61,  63,  68,  69,\n",
       "              72,  76,  79,  82,  85,  86,  88,  92,  94,  95, 103, 105, 110,\n",
       "             126, 129, 133],\n",
       "            dtype='int64'),\n",
       " 'Eastern Asia': Int64Index([37, 45, 46, 71, 83, 99], dtype='int64'),\n",
       " 'Latin America and Caribbean': Int64Index([ 11,  13,  15,  22,  24,  26,  29,  31,  32,  39,  40,  41,  42,\n",
       "              47,  50,  52,  56,  57,  64,  97, 104, 118],\n",
       "            dtype='int64'),\n",
       " 'Middle East and Northern Africa': Int64Index([ 10,  19,  21,  27,  34,  38,  48,  62,  67,  75,  81,  91, 102,\n",
       "             106, 107, 109, 111, 134, 135, 155],\n",
       "            dtype='int64'),\n",
       " 'North America': Int64Index([4, 14], dtype='int64'),\n",
       " 'Southeastern Asia': Int64Index([23, 33, 60, 73, 74, 89, 98, 128, 144], dtype='int64'),\n",
       " 'Southern Asia': Int64Index([78, 80, 108, 116, 120, 131, 152], dtype='int64'),\n",
       " 'Sub-Saharan Africa': Int64Index([ 70,  77,  84,  90,  93,  96, 100, 112, 113, 114, 115, 117, 119,\n",
       "             121, 122, 123, 124, 125, 127, 130, 132, 136, 137, 138, 139, 140,\n",
       "             141, 142, 143, 145, 146, 147, 148, 149, 150, 151, 153, 154, 156,\n",
       "             157],\n",
       "            dtype='int64'),\n",
       " 'Western Europe': Int64Index([0, 1, 2, 3, 5, 6, 7, 12, 16, 17, 18, 20, 25, 28, 35, 36, 49, 65,\n",
       "             66, 87, 101],\n",
       "            dtype='int64')}"
      ]
     },
     "execution_count": 71,
     "metadata": {},
     "output_type": "execute_result"
    }
   ],
   "source": [
    "df_grouped.groups"
   ]
  },
  {
   "cell_type": "code",
   "execution_count": null,
   "metadata": {},
   "outputs": [],
   "source": []
  }
 ],
 "metadata": {
  "kernelspec": {
   "display_name": "Python 3",
   "language": "python",
   "name": "python3"
  },
  "language_info": {
   "codemirror_mode": {
    "name": "ipython",
    "version": 3
   },
   "file_extension": ".py",
   "mimetype": "text/x-python",
   "name": "python",
   "nbconvert_exporter": "python",
   "pygments_lexer": "ipython3",
   "version": "3.7.4"
  }
 },
 "nbformat": 4,
 "nbformat_minor": 4
}
