{
 "cells": [
  {
   "cell_type": "markdown",
   "metadata": {},
   "source": [
    "Author: Ernest Mack\n",
    "\n",
    "Comments: This could be done more elegently using other methods however, this is intended as a brute-force exercise using bare-bones coding to get the job done."
   ]
  },
  {
   "cell_type": "markdown",
   "metadata": {},
   "source": [
    "### This is a brute-force web scraper using python, requests and beautifulsoup to get the lifting done.\n",
    "\n",
    "The skills developed use requests to to access the web site and get the html and then I use beautiful soup to parse the html tags for the data I want to mine then I convert the data to various lists from which pandas dataframes are created. Then I concatenate the dataframes to create a single dataframe with multiple columns of data. I know that was one heck of a run-on sentence. Anyway, as an exercise I then write-out the dataframe to a .CSV for sharing if I want. now I can focus on doing some data visualizations and manipulation."
   ]
  },
  {
   "cell_type": "markdown",
   "metadata": {},
   "source": [
    "### View the properly rendered verion here:\n",
    "\n",
    "https://nbviewer.jupyter.org/github/SeriousHyena/Sandbox/blob/master/car_review_scraper.ipynb"
   ]
  },
  {
   "cell_type": "code",
   "execution_count": 81,
   "metadata": {},
   "outputs": [],
   "source": [
    "import requests\n",
    "from bs4 import BeautifulSoup\n",
    "import numpy as np\n",
    "import pandas as pd\n",
    "\n",
    "import matplotlib.pyplot as plt"
   ]
  },
  {
   "cell_type": "markdown",
   "metadata": {},
   "source": [
    "### Use Python Requests to get connected to the site and get the html"
   ]
  },
  {
   "cell_type": "code",
   "execution_count": 4,
   "metadata": {},
   "outputs": [],
   "source": [
    "r = requests.get('https://www.jdpower.com/Cars/Consumer-Reviews')"
   ]
  },
  {
   "cell_type": "code",
   "execution_count": 5,
   "metadata": {},
   "outputs": [],
   "source": [
    "url = 'https://www.jdpower.com/Cars/Consumer-Reviews'\n",
    "r = requests.get(url)\n",
    "content = r.text"
   ]
  },
  {
   "cell_type": "markdown",
   "metadata": {},
   "source": [
    "### Use BeautifulSoup to parse the html\n",
    "\n",
    "https://www.crummy.com/software/BeautifulSoup/bs4/doc/\n"
   ]
  },
  {
   "cell_type": "markdown",
   "metadata": {},
   "source": [
    "### First inspect the web page under consideration.\n",
    "\n",
    "I do this by navigating out to the web page and then use the 'inspect element' feature of firefox. This allows me to determine the tag that references the data I am considering mining."
   ]
  },
  {
   "cell_type": "markdown",
   "metadata": {},
   "source": [
    "### Create a beuatifulsoup element to hold the parsed html"
   ]
  },
  {
   "cell_type": "code",
   "execution_count": 6,
   "metadata": {},
   "outputs": [],
   "source": [
    "soup = BeautifulSoup(content, 'html.parser')"
   ]
  },
  {
   "cell_type": "markdown",
   "metadata": {},
   "source": [
    "### Now start parsing the html"
   ]
  },
  {
   "cell_type": "code",
   "execution_count": 7,
   "metadata": {},
   "outputs": [],
   "source": [
    "cars = soup.find_all('section', 'site-content')"
   ]
  },
  {
   "cell_type": "markdown",
   "metadata": {},
   "source": [
    "### Iterate through the html tags."
   ]
  },
  {
   "cell_type": "markdown",
   "metadata": {},
   "source": [
    "### A function to iterate the various html tags"
   ]
  },
  {
   "cell_type": "code",
   "execution_count": 62,
   "metadata": {},
   "outputs": [],
   "source": [
    "tag_item = [] #a list for the descriptions I will call this function as required based on the html\n",
    "              #tags and the data I want to extract  \n",
    "def get_tags(tag_name, tag_desc): \n",
    "    tag_item.clear() #clear the list contentas for re-use\n",
    "    for paragraph in soup.find_all(tag_name,tag_desc):\n",
    "        tag_item.append(str(paragraph.text))\n",
    "\n",
    "    "
   ]
  },
  {
   "cell_type": "markdown",
   "metadata": {},
   "source": [
    "### create lists to store the tag data I want to mine"
   ]
  },
  {
   "cell_type": "code",
   "execution_count": 63,
   "metadata": {},
   "outputs": [],
   "source": [
    "get_tags('div', 'title heading-s')"
   ]
  },
  {
   "cell_type": "code",
   "execution_count": 64,
   "metadata": {},
   "outputs": [],
   "source": [
    "#here I have to use the python copy() method otherwise I will not be able to save new list contents\n",
    "car_name = tag_item.copy()"
   ]
  },
  {
   "cell_type": "code",
   "execution_count": 65,
   "metadata": {},
   "outputs": [
    {
     "data": {
      "text/plain": [
       "['2019 Mercedes-Benz GLC',\n",
       " '2019 Jeep Cherokee',\n",
       " '2019 Mercedes-Benz GLA',\n",
       " '2019 Chevrolet Tahoe',\n",
       " '2019 Audi Q7']"
      ]
     },
     "execution_count": 65,
     "metadata": {},
     "output_type": "execute_result"
    }
   ],
   "source": [
    "car_name[:5]"
   ]
  },
  {
   "cell_type": "code",
   "execution_count": 96,
   "metadata": {},
   "outputs": [
    {
     "data": {
      "text/plain": [
       "['4', '5', '5', '5', '5', '4', '5', '5', '4', '4']"
      ]
     },
     "execution_count": 96,
     "metadata": {},
     "output_type": "execute_result"
    }
   ],
   "source": [
    "get_tags('div', 'heading-l')\n",
    "rating = tag_item.copy()\n",
    "rating[:10]"
   ]
  },
  {
   "cell_type": "code",
   "execution_count": null,
   "metadata": {},
   "outputs": [],
   "source": []
  },
  {
   "cell_type": "code",
   "execution_count": 114,
   "metadata": {},
   "outputs": [
    {
     "data": {
      "text/plain": [
       "['4', '5', '5', '5', '5']"
      ]
     },
     "execution_count": 114,
     "metadata": {},
     "output_type": "execute_result"
    }
   ],
   "source": [
    "rating[:5]"
   ]
  },
  {
   "cell_type": "code",
   "execution_count": 109,
   "metadata": {},
   "outputs": [
    {
     "data": {
      "text/plain": [
       "['THE MERCEDES BENZ 2019 GLC IS VERY SMART. SOMETIMES IT IS A SMART ALEC!  SO MUCH TECHNOLOGY THAT IT IS DIFFICULT TO FEEL COMFORTABLE WITH ALL THE BELLS AND WHISTLES. BE PREPARED TO GET ALL THE LATEST IN TECHNOLOGY WHETHER YOU WANT IT OR NOT.',\n",
       " 'Excellent, reliable vehicle that handles the road like a pro. Perfect road trip and everyday car for my growing family.']"
      ]
     },
     "execution_count": 109,
     "metadata": {},
     "output_type": "execute_result"
    }
   ],
   "source": [
    "get_tags('div', 'review-body-text')\n",
    "review = tag_item.copy()\n",
    "review[:2]"
   ]
  },
  {
   "cell_type": "markdown",
   "metadata": {},
   "source": [
    "### This section of code gets the owner verified review info"
   ]
  },
  {
   "cell_type": "code",
   "execution_count": 68,
   "metadata": {},
   "outputs": [
    {
     "data": {
      "text/plain": [
       "['JILL B', 'Sarah', 'ROCHELLE', 'Anonymous', 'Anonymous']"
      ]
     },
     "execution_count": 68,
     "metadata": {},
     "output_type": "execute_result"
    }
   ],
   "source": [
    "get_tags('div', 'author')\n",
    "author = tag_item.copy()\n",
    "author[:5]"
   ]
  },
  {
   "cell_type": "code",
   "execution_count": 69,
   "metadata": {},
   "outputs": [
    {
     "data": {
      "text/plain": [
       "['\\nApr 02, 2019\\n|\\n500 miles\\n|\\nOwned 7 months\\n',\n",
       " '\\nApr 02, 2019\\n',\n",
       " '\\nApr 02, 2019\\n|\\n5,600 miles\\n|\\nOwned 11 months\\n',\n",
       " '\\nApr 02, 2019\\n|\\n9,000 miles\\n|\\nOwned 6 months\\n',\n",
       " '\\nApr 01, 2019\\n']"
      ]
     },
     "execution_count": 69,
     "metadata": {},
     "output_type": "execute_result"
    }
   ],
   "source": [
    "get_tags('div', 'author-attributes-wrapper')\n",
    "author_attrib = tag_item.copy()\n",
    "author_attrib[:5]"
   ]
  },
  {
   "cell_type": "markdown",
   "metadata": {},
   "source": [
    "### Remove unwanted characters from the author_attrib column and add a space after the | character"
   ]
  },
  {
   "cell_type": "code",
   "execution_count": 70,
   "metadata": {},
   "outputs": [],
   "source": [
    "author_attrib = [i.replace('\\n', '') for i in author_attrib]\n",
    "author_attrib = [i.replace('|', ' ') for i in author_attrib]"
   ]
  },
  {
   "cell_type": "code",
   "execution_count": 71,
   "metadata": {},
   "outputs": [
    {
     "data": {
      "text/plain": [
       "['Apr 02, 2019 500 miles Owned 7 months',\n",
       " 'Apr 02, 2019',\n",
       " 'Apr 02, 2019 5,600 miles Owned 11 months',\n",
       " 'Apr 02, 2019 9,000 miles Owned 6 months',\n",
       " 'Apr 01, 2019']"
      ]
     },
     "execution_count": 71,
     "metadata": {},
     "output_type": "execute_result"
    }
   ],
   "source": [
    "author_attrib[:5] #verify my string cleaning worked"
   ]
  },
  {
   "cell_type": "markdown",
   "metadata": {},
   "source": [
    "### Now create a Pandas dataframe"
   ]
  },
  {
   "cell_type": "markdown",
   "metadata": {},
   "source": [
    "### First I will concatenate the multiple dataframes so I have the data in multiple rows.\n",
    "\n",
    "I have concatenated several dataframes here so will be looking for a better way to do this however, this works fine but I think I could do a more elegant coding job."
   ]
  },
  {
   "cell_type": "code",
   "execution_count": 77,
   "metadata": {},
   "outputs": [],
   "source": [
    "df1 = pd.DataFrame(car_name)\n",
    "df2 = pd.DataFrame(rating)\n",
    "df_review = pd.DataFrame(review)\n",
    "df_author = pd.DataFrame(author)\n",
    "df_author_attrib = pd.DataFrame(author_attrib)"
   ]
  },
  {
   "cell_type": "code",
   "execution_count": 78,
   "metadata": {},
   "outputs": [],
   "source": [
    "df3 = pd.concat([df1, df2, df_review, df_author, df_author_attrib], axis=1)"
   ]
  },
  {
   "cell_type": "code",
   "execution_count": 79,
   "metadata": {},
   "outputs": [],
   "source": [
    "df3.columns = ['Car Name', 'Car Rating', 'Review', 'Author', 'Author Info']"
   ]
  },
  {
   "cell_type": "code",
   "execution_count": 117,
   "metadata": {},
   "outputs": [
    {
     "data": {
      "text/html": [
       "<div>\n",
       "<style scoped>\n",
       "    .dataframe tbody tr th:only-of-type {\n",
       "        vertical-align: middle;\n",
       "    }\n",
       "\n",
       "    .dataframe tbody tr th {\n",
       "        vertical-align: top;\n",
       "    }\n",
       "\n",
       "    .dataframe thead th {\n",
       "        text-align: right;\n",
       "    }\n",
       "</style>\n",
       "<table border=\"1\" class=\"dataframe\">\n",
       "  <thead>\n",
       "    <tr style=\"text-align: right;\">\n",
       "      <th></th>\n",
       "      <th>Car Name</th>\n",
       "      <th>Car Rating</th>\n",
       "      <th>Review</th>\n",
       "      <th>Author</th>\n",
       "      <th>Author Info</th>\n",
       "    </tr>\n",
       "  </thead>\n",
       "  <tbody>\n",
       "    <tr>\n",
       "      <td>0</td>\n",
       "      <td>2019 Mercedes-Benz GLC</td>\n",
       "      <td>4</td>\n",
       "      <td>THE MERCEDES BENZ 2019 GLC IS VERY SMART. SOME...</td>\n",
       "      <td>JILL B</td>\n",
       "      <td>Apr 02, 2019 500 miles Owned 7 months</td>\n",
       "    </tr>\n",
       "    <tr>\n",
       "      <td>1</td>\n",
       "      <td>2019 Jeep Cherokee</td>\n",
       "      <td>5</td>\n",
       "      <td>Excellent, reliable vehicle that handles the r...</td>\n",
       "      <td>Sarah</td>\n",
       "      <td>Apr 02, 2019</td>\n",
       "    </tr>\n",
       "    <tr>\n",
       "      <td>2</td>\n",
       "      <td>2019 Mercedes-Benz GLA</td>\n",
       "      <td>5</td>\n",
       "      <td>I LOVE THE WAY MY CAR ACCELARATES. I LOVE MY W...</td>\n",
       "      <td>ROCHELLE</td>\n",
       "      <td>Apr 02, 2019 5,600 miles Owned 11 months</td>\n",
       "    </tr>\n",
       "    <tr>\n",
       "      <td>3</td>\n",
       "      <td>2019 Chevrolet Tahoe</td>\n",
       "      <td>5</td>\n",
       "      <td>The Chevy Tahoe is very versatile.  Seats lay ...</td>\n",
       "      <td>Anonymous</td>\n",
       "      <td>Apr 02, 2019 9,000 miles Owned 6 months</td>\n",
       "    </tr>\n",
       "    <tr>\n",
       "      <td>4</td>\n",
       "      <td>2019 Audi Q7</td>\n",
       "      <td>5</td>\n",
       "      <td>Great vehicle, great performance.  Very impres...</td>\n",
       "      <td>Anonymous</td>\n",
       "      <td>Apr 01, 2019</td>\n",
       "    </tr>\n",
       "  </tbody>\n",
       "</table>\n",
       "</div>"
      ],
      "text/plain": [
       "                 Car Name Car Rating  \\\n",
       "0  2019 Mercedes-Benz GLC          4   \n",
       "1      2019 Jeep Cherokee          5   \n",
       "2  2019 Mercedes-Benz GLA          5   \n",
       "3    2019 Chevrolet Tahoe          5   \n",
       "4            2019 Audi Q7          5   \n",
       "\n",
       "                                              Review     Author  \\\n",
       "0  THE MERCEDES BENZ 2019 GLC IS VERY SMART. SOME...     JILL B   \n",
       "1  Excellent, reliable vehicle that handles the r...      Sarah   \n",
       "2  I LOVE THE WAY MY CAR ACCELARATES. I LOVE MY W...   ROCHELLE   \n",
       "3  The Chevy Tahoe is very versatile.  Seats lay ...  Anonymous   \n",
       "4  Great vehicle, great performance.  Very impres...  Anonymous   \n",
       "\n",
       "                                Author Info  \n",
       "0     Apr 02, 2019 500 miles Owned 7 months  \n",
       "1                              Apr 02, 2019  \n",
       "2  Apr 02, 2019 5,600 miles Owned 11 months  \n",
       "3   Apr 02, 2019 9,000 miles Owned 6 months  \n",
       "4                              Apr 01, 2019  "
      ]
     },
     "execution_count": 117,
     "metadata": {},
     "output_type": "execute_result"
    }
   ],
   "source": [
    "df3.head()\n"
   ]
  },
  {
   "cell_type": "markdown",
   "metadata": {},
   "source": [
    "### We need to convert the rating values from str to int in order to properly plot the result in Matplotlib"
   ]
  },
  {
   "cell_type": "code",
   "execution_count": 132,
   "metadata": {},
   "outputs": [],
   "source": [
    "df3['Car Rating'] = df3['Car Rating'].astype(int)"
   ]
  },
  {
   "cell_type": "code",
   "execution_count": 133,
   "metadata": {},
   "outputs": [
    {
     "data": {
      "text/plain": [
       "Car Name       0\n",
       "Car Rating     0\n",
       "Review         0\n",
       "Author         0\n",
       "Author Info    0\n",
       "dtype: int64"
      ]
     },
     "execution_count": 133,
     "metadata": {},
     "output_type": "execute_result"
    }
   ],
   "source": [
    "df3.isnull().sum()"
   ]
  },
  {
   "cell_type": "code",
   "execution_count": 134,
   "metadata": {},
   "outputs": [
    {
     "name": "stdout",
     "output_type": "stream",
     "text": [
      "<class 'pandas.core.frame.DataFrame'>\n",
      "RangeIndex: 20 entries, 0 to 19\n",
      "Data columns (total 5 columns):\n",
      "Car Name       20 non-null object\n",
      "Car Rating     20 non-null int32\n",
      "Review         20 non-null object\n",
      "Author         20 non-null object\n",
      "Author Info    20 non-null object\n",
      "dtypes: int32(1), object(4)\n",
      "memory usage: 848.0+ bytes\n"
     ]
    }
   ],
   "source": [
    "df3.info()"
   ]
  },
  {
   "cell_type": "markdown",
   "metadata": {},
   "source": [
    "### Save the file to a .CSV for storage and sharing."
   ]
  },
  {
   "cell_type": "code",
   "execution_count": 130,
   "metadata": {},
   "outputs": [],
   "source": [
    "#this will show a file access error on github of course but does work locally as long as the file is not\n",
    "#opened in excel.\n",
    "df3.to_csv('car_reviews.csv')"
   ]
  },
  {
   "cell_type": "markdown",
   "metadata": {},
   "source": [
    "### Next we can do some data visualization and manipulation"
   ]
  },
  {
   "cell_type": "markdown",
   "metadata": {},
   "source": [
    "### Let's see the cars with the highest ratings"
   ]
  },
  {
   "cell_type": "code",
   "execution_count": 131,
   "metadata": {},
   "outputs": [
    {
     "data": {
      "image/png": "[encoded data removed]",
      "text/plain": [
       "<Figure size 720x432 with 1 Axes>"
      ]
     },
     "metadata": {
      "needs_background": "light"
     },
     "output_type": "display_data"
    }
   ],
   "source": [
    "# Define plot space\n",
    "fig, ax = plt.subplots(figsize=(10, 6))\n",
    "plt.rcParams.update({'font.size': 15})\n",
    "\n",
    "# Define x and y axes\n",
    "ax.bar(df3['Car Name'], \n",
    "        df3['Car Rating'])\n",
    "plt.xticks(rotation=90)\n",
    "\n",
    "# Set plot title and axes labels\n",
    "ax.set(title = \"Customer Car Ratings\",\n",
    "       xlabel = \"Car Make, Manufacturer\",\n",
    "       ylabel = \"Customer Rating\")\n",
    "\n",
    "plt.show()"
   ]
  },
  {
   "cell_type": "code",
   "execution_count": null,
   "metadata": {},
   "outputs": [],
   "source": []
  }
 ],
 "metadata": {
  "kernelspec": {
   "display_name": "Python 3",
   "language": "python",
   "name": "python3"
  },
  "language_info": {
   "codemirror_mode": {
    "name": "ipython",
    "version": 3
   },
   "file_extension": ".py",
   "mimetype": "text/x-python",
   "name": "python",
   "nbconvert_exporter": "python",
   "pygments_lexer": "ipython3",
   "version": "3.7.4"
  }
 },
 "nbformat": 4,
 "nbformat_minor": 4
}
